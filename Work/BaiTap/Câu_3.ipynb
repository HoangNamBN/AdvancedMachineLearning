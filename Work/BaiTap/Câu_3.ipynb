{
  "nbformat": 4,
  "nbformat_minor": 0,
  "metadata": {
    "colab": {
      "name": "Câu 3.ipynb",
      "provenance": []
    },
    "kernelspec": {
      "name": "python3",
      "display_name": "Python 3"
    },
    "language_info": {
      "name": "python"
    }
  },
  "cells": [
    {
      "cell_type": "code",
      "metadata": {
        "colab": {
          "base_uri": "https://localhost:8080/"
        },
        "id": "KOIIWnpg2m7z",
        "outputId": "9ce0c9cd-48f9-40e7-8d2d-1bb1729e769f"
      },
      "source": [
        "!pip install cvxopt"
      ],
      "execution_count": 1,
      "outputs": [
        {
          "output_type": "stream",
          "name": "stdout",
          "text": [
            "Requirement already satisfied: cvxopt in /usr/local/lib/python3.7/dist-packages (1.2.6)\n"
          ]
        }
      ]
    },
    {
      "cell_type": "code",
      "metadata": {
        "colab": {
          "base_uri": "https://localhost:8080/"
        },
        "id": "0cOOG0sI2y5q",
        "outputId": "9a7a5541-a902-4c01-d445-768e1dce4219"
      },
      "source": [
        "from cvxopt import matrix, solvers\n",
        "P = matrix([[1., 0.], \n",
        "            [0., 1.]])\n",
        "q = matrix([-4., -6.])\n",
        "G = matrix([[2., -1., -1., 0.], [1., 1., 0., -1.]])\n",
        "h = matrix([2., 4., 0., 0])\n",
        "\n",
        "solvers.options['show_progress'] = False\n",
        "sol = solvers.qp(P, q, G, h)\n",
        "\n",
        "print('Solution:')\n",
        "print(sol['x'])"
      ],
      "execution_count": 2,
      "outputs": [
        {
          "output_type": "stream",
          "name": "stdout",
          "text": [
            "Solution:\n",
            "[ 1.96e-08]\n",
            "[ 2.00e+00]\n",
            "\n"
          ]
        }
      ]
    }
  ]
}